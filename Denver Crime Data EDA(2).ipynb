{
 "cells": [
  {
   "cell_type": "code",
   "execution_count": 1,
   "metadata": {},
   "outputs": [],
   "source": [
    "import pandas as pd\n",
    "import numpy as np\n",
    "import matplotlib.pyplot as plt\n",
    "import seaborn as sns"
   ]
  },
  {
   "cell_type": "code",
   "execution_count": 2,
   "metadata": {},
   "outputs": [],
   "source": [
    "data = pd.read_csv('crime.csv')"
   ]
  },
  {
   "cell_type": "code",
   "execution_count": 3,
   "metadata": {},
   "outputs": [
    {
     "data": {
      "text/html": [
       "<div>\n",
       "<style scoped>\n",
       "    .dataframe tbody tr th:only-of-type {\n",
       "        vertical-align: middle;\n",
       "    }\n",
       "\n",
       "    .dataframe tbody tr th {\n",
       "        vertical-align: top;\n",
       "    }\n",
       "\n",
       "    .dataframe thead th {\n",
       "        text-align: right;\n",
       "    }\n",
       "</style>\n",
       "<table border=\"1\" class=\"dataframe\">\n",
       "  <thead>\n",
       "    <tr style=\"text-align: right;\">\n",
       "      <th></th>\n",
       "      <th>INCIDENT_ID</th>\n",
       "      <th>OFFENSE_ID</th>\n",
       "      <th>OFFENSE_CODE</th>\n",
       "      <th>OFFENSE_CODE_EXTENSION</th>\n",
       "      <th>OFFENSE_TYPE_ID</th>\n",
       "      <th>OFFENSE_CATEGORY_ID</th>\n",
       "      <th>FIRST_OCCURRENCE_DATE</th>\n",
       "      <th>LAST_OCCURRENCE_DATE</th>\n",
       "      <th>REPORTED_DATE</th>\n",
       "      <th>INCIDENT_ADDRESS</th>\n",
       "      <th>GEO_X</th>\n",
       "      <th>GEO_Y</th>\n",
       "      <th>GEO_LON</th>\n",
       "      <th>GEO_LAT</th>\n",
       "      <th>DISTRICT_ID</th>\n",
       "      <th>PRECINCT_ID</th>\n",
       "      <th>NEIGHBORHOOD_ID</th>\n",
       "      <th>IS_CRIME</th>\n",
       "      <th>IS_TRAFFIC</th>\n",
       "    </tr>\n",
       "  </thead>\n",
       "  <tbody>\n",
       "    <tr>\n",
       "      <th>0</th>\n",
       "      <td>2016376978</td>\n",
       "      <td>2016376978521300</td>\n",
       "      <td>5213</td>\n",
       "      <td>0</td>\n",
       "      <td>weapon-unlawful-discharge-of</td>\n",
       "      <td>all-other-crimes</td>\n",
       "      <td>6/15/2016 11:31:00 PM</td>\n",
       "      <td>NaN</td>\n",
       "      <td>6/15/2016 11:31:00 PM</td>\n",
       "      <td>NaN</td>\n",
       "      <td>3193983.0</td>\n",
       "      <td>1707251.0</td>\n",
       "      <td>-104.809881</td>\n",
       "      <td>39.773188</td>\n",
       "      <td>5</td>\n",
       "      <td>521</td>\n",
       "      <td>montbello</td>\n",
       "      <td>1</td>\n",
       "      <td>0</td>\n",
       "    </tr>\n",
       "    <tr>\n",
       "      <th>1</th>\n",
       "      <td>20186000994</td>\n",
       "      <td>20186000994239900</td>\n",
       "      <td>2399</td>\n",
       "      <td>0</td>\n",
       "      <td>theft-other</td>\n",
       "      <td>larceny</td>\n",
       "      <td>10/11/2017 12:30:00 PM</td>\n",
       "      <td>10/11/2017 4:55:00 PM</td>\n",
       "      <td>1/29/2018 5:53:00 PM</td>\n",
       "      <td>NaN</td>\n",
       "      <td>3201943.0</td>\n",
       "      <td>1711852.0</td>\n",
       "      <td>-104.781434</td>\n",
       "      <td>39.785649</td>\n",
       "      <td>5</td>\n",
       "      <td>522</td>\n",
       "      <td>gateway-green-valley-ranch</td>\n",
       "      <td>1</td>\n",
       "      <td>0</td>\n",
       "    </tr>\n",
       "    <tr>\n",
       "      <th>2</th>\n",
       "      <td>20166003953</td>\n",
       "      <td>20166003953230500</td>\n",
       "      <td>2305</td>\n",
       "      <td>0</td>\n",
       "      <td>theft-items-from-vehicle</td>\n",
       "      <td>theft-from-motor-vehicle</td>\n",
       "      <td>3/4/2016 8:00:00 PM</td>\n",
       "      <td>4/25/2016 8:00:00 AM</td>\n",
       "      <td>4/26/2016 9:02:00 PM</td>\n",
       "      <td>2932 S JOSEPHINE ST</td>\n",
       "      <td>3152762.0</td>\n",
       "      <td>1667011.0</td>\n",
       "      <td>-104.957381</td>\n",
       "      <td>39.663490</td>\n",
       "      <td>3</td>\n",
       "      <td>314</td>\n",
       "      <td>wellshire</td>\n",
       "      <td>1</td>\n",
       "      <td>0</td>\n",
       "    </tr>\n",
       "    <tr>\n",
       "      <th>3</th>\n",
       "      <td>201872333</td>\n",
       "      <td>201872333239900</td>\n",
       "      <td>2399</td>\n",
       "      <td>0</td>\n",
       "      <td>theft-other</td>\n",
       "      <td>larceny</td>\n",
       "      <td>1/30/2018 7:20:00 PM</td>\n",
       "      <td>NaN</td>\n",
       "      <td>1/30/2018 10:29:00 PM</td>\n",
       "      <td>705 S COLORADO BLVD</td>\n",
       "      <td>3157162.0</td>\n",
       "      <td>1681320.0</td>\n",
       "      <td>-104.941440</td>\n",
       "      <td>39.702698</td>\n",
       "      <td>3</td>\n",
       "      <td>312</td>\n",
       "      <td>belcaro</td>\n",
       "      <td>1</td>\n",
       "      <td>0</td>\n",
       "    </tr>\n",
       "    <tr>\n",
       "      <th>4</th>\n",
       "      <td>2017411405</td>\n",
       "      <td>2017411405230300</td>\n",
       "      <td>2303</td>\n",
       "      <td>0</td>\n",
       "      <td>theft-shoplift</td>\n",
       "      <td>larceny</td>\n",
       "      <td>6/22/2017 8:53:00 PM</td>\n",
       "      <td>NaN</td>\n",
       "      <td>6/23/2017 4:09:00 PM</td>\n",
       "      <td>2810 E 1ST AVE</td>\n",
       "      <td>3153211.0</td>\n",
       "      <td>1686545.0</td>\n",
       "      <td>-104.955370</td>\n",
       "      <td>39.717107</td>\n",
       "      <td>3</td>\n",
       "      <td>311</td>\n",
       "      <td>cherry-creek</td>\n",
       "      <td>1</td>\n",
       "      <td>0</td>\n",
       "    </tr>\n",
       "  </tbody>\n",
       "</table>\n",
       "</div>"
      ],
      "text/plain": [
       "   INCIDENT_ID         OFFENSE_ID  OFFENSE_CODE  OFFENSE_CODE_EXTENSION  \\\n",
       "0   2016376978   2016376978521300          5213                       0   \n",
       "1  20186000994  20186000994239900          2399                       0   \n",
       "2  20166003953  20166003953230500          2305                       0   \n",
       "3    201872333    201872333239900          2399                       0   \n",
       "4   2017411405   2017411405230300          2303                       0   \n",
       "\n",
       "                OFFENSE_TYPE_ID       OFFENSE_CATEGORY_ID  \\\n",
       "0  weapon-unlawful-discharge-of          all-other-crimes   \n",
       "1                   theft-other                   larceny   \n",
       "2      theft-items-from-vehicle  theft-from-motor-vehicle   \n",
       "3                   theft-other                   larceny   \n",
       "4                theft-shoplift                   larceny   \n",
       "\n",
       "    FIRST_OCCURRENCE_DATE   LAST_OCCURRENCE_DATE          REPORTED_DATE  \\\n",
       "0   6/15/2016 11:31:00 PM                    NaN  6/15/2016 11:31:00 PM   \n",
       "1  10/11/2017 12:30:00 PM  10/11/2017 4:55:00 PM   1/29/2018 5:53:00 PM   \n",
       "2     3/4/2016 8:00:00 PM   4/25/2016 8:00:00 AM   4/26/2016 9:02:00 PM   \n",
       "3    1/30/2018 7:20:00 PM                    NaN  1/30/2018 10:29:00 PM   \n",
       "4    6/22/2017 8:53:00 PM                    NaN   6/23/2017 4:09:00 PM   \n",
       "\n",
       "      INCIDENT_ADDRESS      GEO_X      GEO_Y     GEO_LON    GEO_LAT  \\\n",
       "0                  NaN  3193983.0  1707251.0 -104.809881  39.773188   \n",
       "1                  NaN  3201943.0  1711852.0 -104.781434  39.785649   \n",
       "2  2932 S JOSEPHINE ST  3152762.0  1667011.0 -104.957381  39.663490   \n",
       "3  705 S COLORADO BLVD  3157162.0  1681320.0 -104.941440  39.702698   \n",
       "4       2810 E 1ST AVE  3153211.0  1686545.0 -104.955370  39.717107   \n",
       "\n",
       "   DISTRICT_ID  PRECINCT_ID             NEIGHBORHOOD_ID  IS_CRIME  IS_TRAFFIC  \n",
       "0            5          521                   montbello         1           0  \n",
       "1            5          522  gateway-green-valley-ranch         1           0  \n",
       "2            3          314                   wellshire         1           0  \n",
       "3            3          312                     belcaro         1           0  \n",
       "4            3          311                cherry-creek         1           0  "
      ]
     },
     "execution_count": 3,
     "metadata": {},
     "output_type": "execute_result"
    }
   ],
   "source": [
    "data.head()"
   ]
  },
  {
   "cell_type": "code",
   "execution_count": 4,
   "metadata": {},
   "outputs": [
    {
     "data": {
      "text/plain": [
       "201"
      ]
     },
     "execution_count": 4,
     "metadata": {},
     "output_type": "execute_result"
    }
   ],
   "source": [
    "data.OFFENSE_TYPE_ID.nunique()"
   ]
  },
  {
   "cell_type": "code",
   "execution_count": 5,
   "metadata": {},
   "outputs": [
    {
     "data": {
      "text/plain": [
       "611    34456\n",
       "311    23224\n",
       "123    20335\n",
       "412    19565\n",
       "612    19540\n",
       "122    18287\n",
       "623    17337\n",
       "621    17055\n",
       "223    16439\n",
       "312    15921\n",
       "211    15230\n",
       "512    15128\n",
       "313    14912\n",
       "323    14608\n",
       "111    14088\n",
       "113    13940\n",
       "622    13854\n",
       "521    13757\n",
       "423    13718\n",
       "421    13236\n",
       "322    13131\n",
       "411    12718\n",
       "422    12700\n",
       "121    12440\n",
       "212    11419\n",
       "324    11267\n",
       "221    11094\n",
       "321    10715\n",
       "213    10479\n",
       "112    10376\n",
       "511    10301\n",
       "222     9898\n",
       "314     8737\n",
       "522     6758\n",
       "523     5907\n",
       "759     5889\n",
       "Name: PRECINCT_ID, dtype: int64"
      ]
     },
     "execution_count": 5,
     "metadata": {},
     "output_type": "execute_result"
    }
   ],
   "source": [
    "data.PRECINCT_ID.value_counts()"
   ]
  },
  {
   "cell_type": "code",
   "execution_count": 28,
   "metadata": {},
   "outputs": [
    {
     "data": {
      "text/plain": [
       "five-points                   26674\n",
       "stapleton                     21876\n",
       "cbd                           18863\n",
       "capitol-hill                  17535\n",
       "montbello                     17305\n",
       "baker                         13937\n",
       "lincoln-park                  13651\n",
       "east-colfax                   13279\n",
       "westwood                      12508\n",
       "civic-center                  12169\n",
       "union-station                 11939\n",
       "gateway-green-valley-ranch    10896\n",
       "west-colfax                   10368\n",
       "north-capitol-hill             9352\n",
       "highland                       9190\n",
       "northeast-park-hill            8999\n",
       "hampden-south                  8832\n",
       "hampden                        8092\n",
       "speer                          7850\n",
       "globeville                     7848\n",
       "dia                            7714\n",
       "elyria-swansea                 7653\n",
       "cheesman-park                  7481\n",
       "washington-virginia-vale       7373\n",
       "athmar-park                    7234\n",
       "mar-lee                        7196\n",
       "villa-park                     7151\n",
       "college-view-south-platte      6552\n",
       "city-park-west                 6397\n",
       "sunnyside                      6379\n",
       "                              ...  \n",
       "lowry-field                    4083\n",
       "cole                           3992\n",
       "south-park-hill                3967\n",
       "sloan-lake                     3963\n",
       "windsor                        3799\n",
       "marston                        3765\n",
       "north-park-hill                3735\n",
       "hale                           3701\n",
       "valverde                       3633\n",
       "clayton                        3588\n",
       "university-park                3537\n",
       "bear-valley                    3470\n",
       "platt-park                     3246\n",
       "barnum-west                    3238\n",
       "washington-park                3114\n",
       "whittier                       3069\n",
       "hilltop                        3044\n",
       "regis                          2677\n",
       "city-park                      2662\n",
       "cory-merrill                   2620\n",
       "chaffee-park                   2588\n",
       "belcaro                        2555\n",
       "southmoor-park                 2427\n",
       "fort-logan                     2361\n",
       "kennedy                        2218\n",
       "skyland                        2048\n",
       "rosedale                       1725\n",
       "country-club                   1216\n",
       "wellshire                       622\n",
       "indian-creek                    564\n",
       "Name: NEIGHBORHOOD_ID, Length: 78, dtype: int64"
      ]
     },
     "execution_count": 28,
     "metadata": {},
     "output_type": "execute_result"
    }
   ],
   "source": [
    "data.NEIGHBORHOOD_ID.value_counts()"
   ]
  },
  {
   "cell_type": "code",
   "execution_count": 7,
   "metadata": {},
   "outputs": [],
   "source": [
    "data.FIRST_OCCURRENCE_DATE = pd.to_datetime(data.FIRST_OCCURRENCE_DATE)\n",
    "data[\"YEAR\"] = data.FIRST_OCCURRENCE_DATE.dt.year\n",
    "data[\"DAY\"] = data.FIRST_OCCURRENCE_DATE.dt.day\n",
    "data[\"DAY_OF_WEEK\"] = data.FIRST_OCCURRENCE_DATE.dt.dayofweek\n",
    "data[\"MONTH\"] = data.FIRST_OCCURRENCE_DATE.dt.month\n",
    "data[\"HOUR\"] = data.FIRST_OCCURRENCE_DATE.dt.hour\n",
    "data.index = pd.DatetimeIndex(data[\"FIRST_OCCURRENCE_DATE\"])"
   ]
  },
  {
   "cell_type": "code",
   "execution_count": 26,
   "metadata": {},
   "outputs": [
    {
     "data": {
      "text/html": [
       "<div>\n",
       "<style scoped>\n",
       "    .dataframe tbody tr th:only-of-type {\n",
       "        vertical-align: middle;\n",
       "    }\n",
       "\n",
       "    .dataframe tbody tr th {\n",
       "        vertical-align: top;\n",
       "    }\n",
       "\n",
       "    .dataframe thead th {\n",
       "        text-align: right;\n",
       "    }\n",
       "</style>\n",
       "<table border=\"1\" class=\"dataframe\">\n",
       "  <thead>\n",
       "    <tr style=\"text-align: right;\">\n",
       "      <th></th>\n",
       "      <th>INCIDENT_ID</th>\n",
       "      <th>OFFENSE_ID</th>\n",
       "      <th>OFFENSE_CODE</th>\n",
       "      <th>OFFENSE_CODE_EXTENSION</th>\n",
       "      <th>OFFENSE_TYPE_ID</th>\n",
       "      <th>OFFENSE_CATEGORY_ID</th>\n",
       "      <th>FIRST_OCCURRENCE_DATE</th>\n",
       "      <th>LAST_OCCURRENCE_DATE</th>\n",
       "      <th>REPORTED_DATE</th>\n",
       "      <th>INCIDENT_ADDRESS</th>\n",
       "      <th>...</th>\n",
       "      <th>DISTRICT_ID</th>\n",
       "      <th>PRECINCT_ID</th>\n",
       "      <th>NEIGHBORHOOD_ID</th>\n",
       "      <th>IS_CRIME</th>\n",
       "      <th>IS_TRAFFIC</th>\n",
       "      <th>YEAR</th>\n",
       "      <th>DAY</th>\n",
       "      <th>DAY_OF_WEEK</th>\n",
       "      <th>MONTH</th>\n",
       "      <th>HOUR</th>\n",
       "    </tr>\n",
       "    <tr>\n",
       "      <th>FIRST_OCCURRENCE_DATE</th>\n",
       "      <th></th>\n",
       "      <th></th>\n",
       "      <th></th>\n",
       "      <th></th>\n",
       "      <th></th>\n",
       "      <th></th>\n",
       "      <th></th>\n",
       "      <th></th>\n",
       "      <th></th>\n",
       "      <th></th>\n",
       "      <th></th>\n",
       "      <th></th>\n",
       "      <th></th>\n",
       "      <th></th>\n",
       "      <th></th>\n",
       "      <th></th>\n",
       "      <th></th>\n",
       "      <th></th>\n",
       "      <th></th>\n",
       "      <th></th>\n",
       "      <th></th>\n",
       "    </tr>\n",
       "  </thead>\n",
       "  <tbody>\n",
       "    <tr>\n",
       "      <th>2016-06-15 23:31:00</th>\n",
       "      <td>2016376978</td>\n",
       "      <td>2016376978521300</td>\n",
       "      <td>5213</td>\n",
       "      <td>0</td>\n",
       "      <td>weapon-unlawful-discharge-of</td>\n",
       "      <td>all-other-crimes</td>\n",
       "      <td>2016-06-15 23:31:00</td>\n",
       "      <td>NaN</td>\n",
       "      <td>6/15/2016 11:31:00 PM</td>\n",
       "      <td>NaN</td>\n",
       "      <td>...</td>\n",
       "      <td>5</td>\n",
       "      <td>521</td>\n",
       "      <td>montbello</td>\n",
       "      <td>1</td>\n",
       "      <td>0</td>\n",
       "      <td>2016</td>\n",
       "      <td>15</td>\n",
       "      <td>2</td>\n",
       "      <td>6</td>\n",
       "      <td>23</td>\n",
       "    </tr>\n",
       "    <tr>\n",
       "      <th>2017-10-11 12:30:00</th>\n",
       "      <td>20186000994</td>\n",
       "      <td>20186000994239900</td>\n",
       "      <td>2399</td>\n",
       "      <td>0</td>\n",
       "      <td>theft-other</td>\n",
       "      <td>larceny</td>\n",
       "      <td>2017-10-11 12:30:00</td>\n",
       "      <td>10/11/2017 4:55:00 PM</td>\n",
       "      <td>1/29/2018 5:53:00 PM</td>\n",
       "      <td>NaN</td>\n",
       "      <td>...</td>\n",
       "      <td>5</td>\n",
       "      <td>522</td>\n",
       "      <td>gateway-green-valley-ranch</td>\n",
       "      <td>1</td>\n",
       "      <td>0</td>\n",
       "      <td>2017</td>\n",
       "      <td>11</td>\n",
       "      <td>2</td>\n",
       "      <td>10</td>\n",
       "      <td>12</td>\n",
       "    </tr>\n",
       "    <tr>\n",
       "      <th>2016-03-04 20:00:00</th>\n",
       "      <td>20166003953</td>\n",
       "      <td>20166003953230500</td>\n",
       "      <td>2305</td>\n",
       "      <td>0</td>\n",
       "      <td>theft-items-from-vehicle</td>\n",
       "      <td>theft-from-motor-vehicle</td>\n",
       "      <td>2016-03-04 20:00:00</td>\n",
       "      <td>4/25/2016 8:00:00 AM</td>\n",
       "      <td>4/26/2016 9:02:00 PM</td>\n",
       "      <td>2932 S JOSEPHINE ST</td>\n",
       "      <td>...</td>\n",
       "      <td>3</td>\n",
       "      <td>314</td>\n",
       "      <td>wellshire</td>\n",
       "      <td>1</td>\n",
       "      <td>0</td>\n",
       "      <td>2016</td>\n",
       "      <td>4</td>\n",
       "      <td>4</td>\n",
       "      <td>3</td>\n",
       "      <td>20</td>\n",
       "    </tr>\n",
       "    <tr>\n",
       "      <th>2018-01-30 19:20:00</th>\n",
       "      <td>201872333</td>\n",
       "      <td>201872333239900</td>\n",
       "      <td>2399</td>\n",
       "      <td>0</td>\n",
       "      <td>theft-other</td>\n",
       "      <td>larceny</td>\n",
       "      <td>2018-01-30 19:20:00</td>\n",
       "      <td>NaN</td>\n",
       "      <td>1/30/2018 10:29:00 PM</td>\n",
       "      <td>705 S COLORADO BLVD</td>\n",
       "      <td>...</td>\n",
       "      <td>3</td>\n",
       "      <td>312</td>\n",
       "      <td>belcaro</td>\n",
       "      <td>1</td>\n",
       "      <td>0</td>\n",
       "      <td>2018</td>\n",
       "      <td>30</td>\n",
       "      <td>1</td>\n",
       "      <td>1</td>\n",
       "      <td>19</td>\n",
       "    </tr>\n",
       "    <tr>\n",
       "      <th>2017-06-22 20:53:00</th>\n",
       "      <td>2017411405</td>\n",
       "      <td>2017411405230300</td>\n",
       "      <td>2303</td>\n",
       "      <td>0</td>\n",
       "      <td>theft-shoplift</td>\n",
       "      <td>larceny</td>\n",
       "      <td>2017-06-22 20:53:00</td>\n",
       "      <td>NaN</td>\n",
       "      <td>6/23/2017 4:09:00 PM</td>\n",
       "      <td>2810 E 1ST AVE</td>\n",
       "      <td>...</td>\n",
       "      <td>3</td>\n",
       "      <td>311</td>\n",
       "      <td>cherry-creek</td>\n",
       "      <td>1</td>\n",
       "      <td>0</td>\n",
       "      <td>2017</td>\n",
       "      <td>22</td>\n",
       "      <td>3</td>\n",
       "      <td>6</td>\n",
       "      <td>20</td>\n",
       "    </tr>\n",
       "    <tr>\n",
       "      <th>2018-01-31 00:44:00</th>\n",
       "      <td>201872837</td>\n",
       "      <td>201872837549900</td>\n",
       "      <td>5499</td>\n",
       "      <td>0</td>\n",
       "      <td>traf-other</td>\n",
       "      <td>all-other-crimes</td>\n",
       "      <td>2018-01-31 00:44:00</td>\n",
       "      <td>NaN</td>\n",
       "      <td>1/31/2018 1:29:00 AM</td>\n",
       "      <td>2100 BLOCK E 17TH AVE</td>\n",
       "      <td>...</td>\n",
       "      <td>6</td>\n",
       "      <td>622</td>\n",
       "      <td>city-park-west</td>\n",
       "      <td>1</td>\n",
       "      <td>0</td>\n",
       "      <td>2018</td>\n",
       "      <td>31</td>\n",
       "      <td>2</td>\n",
       "      <td>1</td>\n",
       "      <td>0</td>\n",
       "    </tr>\n",
       "    <tr>\n",
       "      <th>2017-06-01 12:15:00</th>\n",
       "      <td>20186001015</td>\n",
       "      <td>20186001015230400</td>\n",
       "      <td>2304</td>\n",
       "      <td>0</td>\n",
       "      <td>theft-parts-from-vehicle</td>\n",
       "      <td>theft-from-motor-vehicle</td>\n",
       "      <td>2017-06-01 12:15:00</td>\n",
       "      <td>1/26/2018 12:15:00 PM</td>\n",
       "      <td>1/26/2018 12:24:00 PM</td>\n",
       "      <td>995 N FEDERAL BLVD</td>\n",
       "      <td>...</td>\n",
       "      <td>1</td>\n",
       "      <td>122</td>\n",
       "      <td>villa-park</td>\n",
       "      <td>1</td>\n",
       "      <td>0</td>\n",
       "      <td>2017</td>\n",
       "      <td>1</td>\n",
       "      <td>3</td>\n",
       "      <td>6</td>\n",
       "      <td>12</td>\n",
       "    </tr>\n",
       "    <tr>\n",
       "      <th>2018-01-30 07:40:00</th>\n",
       "      <td>201870628</td>\n",
       "      <td>201870628570700</td>\n",
       "      <td>5707</td>\n",
       "      <td>0</td>\n",
       "      <td>criminal-trespassing</td>\n",
       "      <td>all-other-crimes</td>\n",
       "      <td>2018-01-30 07:40:00</td>\n",
       "      <td>NaN</td>\n",
       "      <td>1/30/2018 10:33:00 AM</td>\n",
       "      <td>E SPEER BLVD / N GRANT ST</td>\n",
       "      <td>...</td>\n",
       "      <td>3</td>\n",
       "      <td>311</td>\n",
       "      <td>speer</td>\n",
       "      <td>1</td>\n",
       "      <td>0</td>\n",
       "      <td>2018</td>\n",
       "      <td>30</td>\n",
       "      <td>1</td>\n",
       "      <td>1</td>\n",
       "      <td>7</td>\n",
       "    </tr>\n",
       "    <tr>\n",
       "      <th>2018-01-30 09:10:00</th>\n",
       "      <td>201870833</td>\n",
       "      <td>201870833540100</td>\n",
       "      <td>5401</td>\n",
       "      <td>0</td>\n",
       "      <td>traffic-accident-hit-and-run</td>\n",
       "      <td>traffic-accident</td>\n",
       "      <td>2018-01-30 09:10:00</td>\n",
       "      <td>NaN</td>\n",
       "      <td>1/30/2018 9:17:00 AM</td>\n",
       "      <td>W 13TH AVE / N CHEROKEE ST</td>\n",
       "      <td>...</td>\n",
       "      <td>6</td>\n",
       "      <td>611</td>\n",
       "      <td>civic-center</td>\n",
       "      <td>0</td>\n",
       "      <td>1</td>\n",
       "      <td>2018</td>\n",
       "      <td>30</td>\n",
       "      <td>1</td>\n",
       "      <td>1</td>\n",
       "      <td>9</td>\n",
       "    </tr>\n",
       "    <tr>\n",
       "      <th>2018-01-31 00:55:00</th>\n",
       "      <td>20186001048</td>\n",
       "      <td>20186001048230500</td>\n",
       "      <td>2305</td>\n",
       "      <td>0</td>\n",
       "      <td>theft-items-from-vehicle</td>\n",
       "      <td>theft-from-motor-vehicle</td>\n",
       "      <td>2018-01-31 00:55:00</td>\n",
       "      <td>1/31/2018 6:55:00 AM</td>\n",
       "      <td>1/31/2018 7:07:00 AM</td>\n",
       "      <td>2828 N ZUNI ST</td>\n",
       "      <td>...</td>\n",
       "      <td>1</td>\n",
       "      <td>113</td>\n",
       "      <td>highland</td>\n",
       "      <td>1</td>\n",
       "      <td>0</td>\n",
       "      <td>2018</td>\n",
       "      <td>31</td>\n",
       "      <td>2</td>\n",
       "      <td>1</td>\n",
       "      <td>0</td>\n",
       "    </tr>\n",
       "  </tbody>\n",
       "</table>\n",
       "<p>10 rows × 24 columns</p>\n",
       "</div>"
      ],
      "text/plain": [
       "                       INCIDENT_ID         OFFENSE_ID  OFFENSE_CODE  \\\n",
       "FIRST_OCCURRENCE_DATE                                                 \n",
       "2016-06-15 23:31:00     2016376978   2016376978521300          5213   \n",
       "2017-10-11 12:30:00    20186000994  20186000994239900          2399   \n",
       "2016-03-04 20:00:00    20166003953  20166003953230500          2305   \n",
       "2018-01-30 19:20:00      201872333    201872333239900          2399   \n",
       "2017-06-22 20:53:00     2017411405   2017411405230300          2303   \n",
       "2018-01-31 00:44:00      201872837    201872837549900          5499   \n",
       "2017-06-01 12:15:00    20186001015  20186001015230400          2304   \n",
       "2018-01-30 07:40:00      201870628    201870628570700          5707   \n",
       "2018-01-30 09:10:00      201870833    201870833540100          5401   \n",
       "2018-01-31 00:55:00    20186001048  20186001048230500          2305   \n",
       "\n",
       "                       OFFENSE_CODE_EXTENSION               OFFENSE_TYPE_ID  \\\n",
       "FIRST_OCCURRENCE_DATE                                                         \n",
       "2016-06-15 23:31:00                         0  weapon-unlawful-discharge-of   \n",
       "2017-10-11 12:30:00                         0                   theft-other   \n",
       "2016-03-04 20:00:00                         0      theft-items-from-vehicle   \n",
       "2018-01-30 19:20:00                         0                   theft-other   \n",
       "2017-06-22 20:53:00                         0                theft-shoplift   \n",
       "2018-01-31 00:44:00                         0                    traf-other   \n",
       "2017-06-01 12:15:00                         0      theft-parts-from-vehicle   \n",
       "2018-01-30 07:40:00                         0          criminal-trespassing   \n",
       "2018-01-30 09:10:00                         0  traffic-accident-hit-and-run   \n",
       "2018-01-31 00:55:00                         0      theft-items-from-vehicle   \n",
       "\n",
       "                            OFFENSE_CATEGORY_ID FIRST_OCCURRENCE_DATE  \\\n",
       "FIRST_OCCURRENCE_DATE                                                   \n",
       "2016-06-15 23:31:00            all-other-crimes   2016-06-15 23:31:00   \n",
       "2017-10-11 12:30:00                     larceny   2017-10-11 12:30:00   \n",
       "2016-03-04 20:00:00    theft-from-motor-vehicle   2016-03-04 20:00:00   \n",
       "2018-01-30 19:20:00                     larceny   2018-01-30 19:20:00   \n",
       "2017-06-22 20:53:00                     larceny   2017-06-22 20:53:00   \n",
       "2018-01-31 00:44:00            all-other-crimes   2018-01-31 00:44:00   \n",
       "2017-06-01 12:15:00    theft-from-motor-vehicle   2017-06-01 12:15:00   \n",
       "2018-01-30 07:40:00            all-other-crimes   2018-01-30 07:40:00   \n",
       "2018-01-30 09:10:00            traffic-accident   2018-01-30 09:10:00   \n",
       "2018-01-31 00:55:00    theft-from-motor-vehicle   2018-01-31 00:55:00   \n",
       "\n",
       "                        LAST_OCCURRENCE_DATE          REPORTED_DATE  \\\n",
       "FIRST_OCCURRENCE_DATE                                                 \n",
       "2016-06-15 23:31:00                      NaN  6/15/2016 11:31:00 PM   \n",
       "2017-10-11 12:30:00    10/11/2017 4:55:00 PM   1/29/2018 5:53:00 PM   \n",
       "2016-03-04 20:00:00     4/25/2016 8:00:00 AM   4/26/2016 9:02:00 PM   \n",
       "2018-01-30 19:20:00                      NaN  1/30/2018 10:29:00 PM   \n",
       "2017-06-22 20:53:00                      NaN   6/23/2017 4:09:00 PM   \n",
       "2018-01-31 00:44:00                      NaN   1/31/2018 1:29:00 AM   \n",
       "2017-06-01 12:15:00    1/26/2018 12:15:00 PM  1/26/2018 12:24:00 PM   \n",
       "2018-01-30 07:40:00                      NaN  1/30/2018 10:33:00 AM   \n",
       "2018-01-30 09:10:00                      NaN   1/30/2018 9:17:00 AM   \n",
       "2018-01-31 00:55:00     1/31/2018 6:55:00 AM   1/31/2018 7:07:00 AM   \n",
       "\n",
       "                                 INCIDENT_ADDRESS  ...  DISTRICT_ID  \\\n",
       "FIRST_OCCURRENCE_DATE                              ...                \n",
       "2016-06-15 23:31:00                           NaN  ...            5   \n",
       "2017-10-11 12:30:00                           NaN  ...            5   \n",
       "2016-03-04 20:00:00           2932 S JOSEPHINE ST  ...            3   \n",
       "2018-01-30 19:20:00           705 S COLORADO BLVD  ...            3   \n",
       "2017-06-22 20:53:00                2810 E 1ST AVE  ...            3   \n",
       "2018-01-31 00:44:00         2100 BLOCK E 17TH AVE  ...            6   \n",
       "2017-06-01 12:15:00            995 N FEDERAL BLVD  ...            1   \n",
       "2018-01-30 07:40:00     E SPEER BLVD / N GRANT ST  ...            3   \n",
       "2018-01-30 09:10:00    W 13TH AVE / N CHEROKEE ST  ...            6   \n",
       "2018-01-31 00:55:00                2828 N ZUNI ST  ...            1   \n",
       "\n",
       "                       PRECINCT_ID             NEIGHBORHOOD_ID  IS_CRIME  \\\n",
       "FIRST_OCCURRENCE_DATE                                                      \n",
       "2016-06-15 23:31:00            521                   montbello         1   \n",
       "2017-10-11 12:30:00            522  gateway-green-valley-ranch         1   \n",
       "2016-03-04 20:00:00            314                   wellshire         1   \n",
       "2018-01-30 19:20:00            312                     belcaro         1   \n",
       "2017-06-22 20:53:00            311                cherry-creek         1   \n",
       "2018-01-31 00:44:00            622              city-park-west         1   \n",
       "2017-06-01 12:15:00            122                  villa-park         1   \n",
       "2018-01-30 07:40:00            311                       speer         1   \n",
       "2018-01-30 09:10:00            611                civic-center         0   \n",
       "2018-01-31 00:55:00            113                    highland         1   \n",
       "\n",
       "                       IS_TRAFFIC  YEAR DAY  DAY_OF_WEEK  MONTH  HOUR  \n",
       "FIRST_OCCURRENCE_DATE                                                  \n",
       "2016-06-15 23:31:00             0  2016  15            2      6    23  \n",
       "2017-10-11 12:30:00             0  2017  11            2     10    12  \n",
       "2016-03-04 20:00:00             0  2016   4            4      3    20  \n",
       "2018-01-30 19:20:00             0  2018  30            1      1    19  \n",
       "2017-06-22 20:53:00             0  2017  22            3      6    20  \n",
       "2018-01-31 00:44:00             0  2018  31            2      1     0  \n",
       "2017-06-01 12:15:00             0  2017   1            3      6    12  \n",
       "2018-01-30 07:40:00             0  2018  30            1      1     7  \n",
       "2018-01-30 09:10:00             1  2018  30            1      1     9  \n",
       "2018-01-31 00:55:00             0  2018  31            2      1     0  \n",
       "\n",
       "[10 rows x 24 columns]"
      ]
     },
     "execution_count": 26,
     "metadata": {},
     "output_type": "execute_result"
    }
   ],
   "source": [
    "data.head(10)"
   ]
  },
  {
   "cell_type": "code",
   "execution_count": 9,
   "metadata": {},
   "outputs": [
    {
     "data": {
      "text/plain": [
       "<matplotlib.axes._subplots.AxesSubplot at 0x10d710828>"
      ]
     },
     "execution_count": 9,
     "metadata": {},
     "output_type": "execute_result"
    },
    {
     "data": {
      "image/png": "[encoded data removed]",
      "text/plain": [
       "<Figure size 864x864 with 1 Axes>"
      ]
     },
     "metadata": {
      "needs_background": "light"
     },
     "output_type": "display_data"
    }
   ],
   "source": [
    "#Number of incidents of each crime\n",
    "plt.figure(figsize=(12,12))\n",
    "crime_freq = data.OFFENSE_CATEGORY_ID.value_counts()\n",
    "sns.countplot(y=\"OFFENSE_CATEGORY_ID\", data=data, order=crime_freq.index, color=\"r\")"
   ]
  },
  {
   "cell_type": "code",
   "execution_count": 10,
   "metadata": {},
   "outputs": [
    {
     "data": {
      "text/plain": [
       "<matplotlib.axes._subplots.AxesSubplot at 0x1a213fd4e0>"
      ]
     },
     "execution_count": 10,
     "metadata": {},
     "output_type": "execute_result"
    },
    {
     "data": {
      "image/png": "[encoded data removed]",
      "text/plain": [
       "<Figure size 576x576 with 1 Axes>"
      ]
     },
     "metadata": {
      "needs_background": "light"
     },
     "output_type": "display_data"
    }
   ],
   "source": [
    "#Incidents of Crime by Hour\n",
    "plt.figure(figsize=(8,8))\n",
    "sns.countplot(x=\"HOUR\", data=data[data.IS_CRIME==1], color='b')"
   ]
  },
  {
   "cell_type": "code",
   "execution_count": 11,
   "metadata": {},
   "outputs": [
    {
     "data": {
      "text/plain": [
       "<matplotlib.axes._subplots.AxesSubplot at 0x1a21a30128>"
      ]
     },
     "execution_count": 11,
     "metadata": {},
     "output_type": "execute_result"
    },
    {
     "data": {
      "image/png": "[encoded data removed]",
      "text/plain": [
       "<Figure size 576x576 with 1 Axes>"
      ]
     },
     "metadata": {
      "needs_background": "light"
     },
     "output_type": "display_data"
    }
   ],
   "source": [
    "#Incidents of Traffic Crime by Hour\n",
    "plt.figure(figsize=(8,8))\n",
    "sns.countplot(x=\"HOUR\", data=data[data.IS_TRAFFIC==1], color='purple')"
   ]
  },
  {
   "cell_type": "code",
   "execution_count": 12,
   "metadata": {},
   "outputs": [
    {
     "data": {
      "text/plain": [
       "Text(0.5, 1.0, 'Trend of crimes(by month)')"
      ]
     },
     "execution_count": 12,
     "metadata": {},
     "output_type": "execute_result"
    },
    {
     "data": {
      "image/png": "[encoded data removed]",
      "text/plain": [
       "<Figure size 1080x432 with 1 Axes>"
      ]
     },
     "metadata": {
      "needs_background": "light"
     },
     "output_type": "display_data"
    }
   ],
   "source": [
    "crimes_df = data[data.IS_CRIME==1]\n",
    "month_df = crimes_df.resample('M').size() #M = month end frequency\n",
    "plt.figure(figsize=(15,6))\n",
    "month_df.plot(color='blue')\n",
    "month_df.rolling(window=11).mean().plot(color='red') #window:number of observations used for calculating the statistic.\n",
    "plt.title('Trend of crimes(by month)')"
   ]
  },
  {
   "cell_type": "code",
   "execution_count": 13,
   "metadata": {},
   "outputs": [],
   "source": [
    "neighbourhood_freq_d = data.NEIGHBORHOOD_ID.value_counts()[:5].index\n",
    "neighbourhood_freq_s = data.NEIGHBORHOOD_ID.value_counts()[-5:].index"
   ]
  },
  {
   "cell_type": "code",
   "execution_count": 14,
   "metadata": {},
   "outputs": [
    {
     "data": {
      "text/plain": [
       "Text(0.5, 1.0, 'Most dangerous Neighbourhoods')"
      ]
     },
     "execution_count": 14,
     "metadata": {},
     "output_type": "execute_result"
    },
    {
     "data": {
      "image/png": "[encoded data removed]",
      "text/plain": [
       "<Figure size 576x720 with 1 Axes>"
      ]
     },
     "metadata": {
      "needs_background": "light"
     },
     "output_type": "display_data"
    }
   ],
   "source": [
    "plt.figure(figsize=(8,10))\n",
    "sns.countplot(y=\"NEIGHBORHOOD_ID\", data=data, order=neighbourhood_freq_d, color=\"red\")\n",
    "plt.title('Most dangerous Neighbourhoods', fontsize = 20)"
   ]
  },
  {
   "cell_type": "markdown",
   "metadata": {},
   "source": [
    "Hence five-points is the most dangerous neighbourhood"
   ]
  },
  {
   "cell_type": "code",
   "execution_count": 15,
   "metadata": {},
   "outputs": [
    {
     "data": {
      "text/plain": [
       "Text(0.5, 1.0, 'Safest Neighbourhoods')"
      ]
     },
     "execution_count": 15,
     "metadata": {},
     "output_type": "execute_result"
    },
    {
     "data": {
      "image/png": "[encoded data removed]",
      "text/plain": [
       "<Figure size 576x720 with 1 Axes>"
      ]
     },
     "metadata": {
      "needs_background": "light"
     },
     "output_type": "display_data"
    }
   ],
   "source": [
    "plt.figure(figsize=(8,10))\n",
    "sns.countplot(y=\"NEIGHBORHOOD_ID\", data=data, order=neighbourhood_freq_s, color=\"green\")\n",
    "plt.title('Safest Neighbourhoods', fontsize = 20)"
   ]
  },
  {
   "cell_type": "markdown",
   "metadata": {},
   "source": [
    "Hence Indian Creek is the safest neighbourhood"
   ]
  },
  {
   "cell_type": "code",
   "execution_count": 16,
   "metadata": {},
   "outputs": [
    {
     "data": {
      "text/plain": [
       "<matplotlib.axes._subplots.AxesSubplot at 0x1a2108d5f8>"
      ]
     },
     "execution_count": 16,
     "metadata": {},
     "output_type": "execute_result"
    },
    {
     "data": {
      "image/png": "[encoded data removed]",
      "text/plain": [
       "<Figure size 576x576 with 1 Axes>"
      ]
     },
     "metadata": {
      "needs_background": "light"
     },
     "output_type": "display_data"
    }
   ],
   "source": [
    "#Crimes reported in each District\n",
    "p = sns.color_palette(\"GnBu_d\")\n",
    "plt.figure(figsize=(8,8))\n",
    "sns.countplot(x=\"DISTRICT_ID\", data=data, order=data.DISTRICT_ID.value_counts().index, palette=p)"
   ]
  },
  {
   "cell_type": "code",
   "execution_count": 17,
   "metadata": {},
   "outputs": [
    {
     "data": {
      "text/plain": [
       "611    34456\n",
       "311    23224\n",
       "123    20335\n",
       "412    19565\n",
       "612    19540\n",
       "122    18287\n",
       "623    17337\n",
       "621    17055\n",
       "223    16439\n",
       "312    15921\n",
       "211    15230\n",
       "512    15128\n",
       "313    14912\n",
       "323    14608\n",
       "111    14088\n",
       "113    13940\n",
       "622    13854\n",
       "521    13757\n",
       "423    13718\n",
       "421    13236\n",
       "322    13131\n",
       "411    12718\n",
       "422    12700\n",
       "121    12440\n",
       "212    11419\n",
       "324    11267\n",
       "221    11094\n",
       "321    10715\n",
       "213    10479\n",
       "112    10376\n",
       "511    10301\n",
       "222     9898\n",
       "314     8737\n",
       "522     6758\n",
       "523     5907\n",
       "759     5889\n",
       "Name: PRECINCT_ID, dtype: int64"
      ]
     },
     "execution_count": 17,
     "metadata": {},
     "output_type": "execute_result"
    }
   ],
   "source": [
    "data.PRECINCT_ID.value_counts()"
   ]
  },
  {
   "cell_type": "code",
   "execution_count": 25,
   "metadata": {},
   "outputs": [
    {
     "data": {
      "text/plain": [
       "Text(0.5, 1.0, 'Most dangerous Precincts')"
      ]
     },
     "execution_count": 25,
     "metadata": {},
     "output_type": "execute_result"
    },
    {
     "data": {
      "image/png": "[encoded data removed]",
      "text/plain": [
       "<Figure size 576x720 with 1 Axes>"
      ]
     },
     "metadata": {
      "needs_background": "light"
     },
     "output_type": "display_data"
    }
   ],
   "source": [
    "plt.figure(figsize=(8,10))\n",
    "sns.countplot(y=\"PRECINCT_ID\", data=data, order=data.PRECINCT_ID.value_counts()[:5].index, color=\"red\")\n",
    "plt.title('Most dangerous Precincts', fontsize = 20)"
   ]
  },
  {
   "cell_type": "code",
   "execution_count": 24,
   "metadata": {},
   "outputs": [
    {
     "data": {
      "text/plain": [
       "Text(0.5, 1.0, 'Safest Precincts')"
      ]
     },
     "execution_count": 24,
     "metadata": {},
     "output_type": "execute_result"
    },
    {
     "data": {
      "image/png": "[encoded data removed]",
      "text/plain": [
       "<Figure size 576x720 with 1 Axes>"
      ]
     },
     "metadata": {
      "needs_background": "light"
     },
     "output_type": "display_data"
    }
   ],
   "source": [
    "plt.figure(figsize=(8,10))\n",
    "sns.countplot(y=\"PRECINCT_ID\", data=data, order=data.PRECINCT_ID.value_counts()[-5:].index, color=\"green\")\n",
    "plt.title('Safest Precincts', fontsize = 20)"
   ]
  },
  {
   "cell_type": "code",
   "execution_count": null,
   "metadata": {},
   "outputs": [],
   "source": []
  }
 ],
 "metadata": {
  "kernelspec": {
   "display_name": "Python 3",
   "language": "python",
   "name": "python3"
  },
  "language_info": {
   "codemirror_mode": {
    "name": "ipython",
    "version": 3
   },
   "file_extension": ".py",
   "mimetype": "text/x-python",
   "name": "python",
   "nbconvert_exporter": "python",
   "pygments_lexer": "ipython3",
   "version": "3.7.3"
  }
 },
 "nbformat": 4,
 "nbformat_minor": 2
}
